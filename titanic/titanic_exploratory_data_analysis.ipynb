{
 "cells": [
  {
   "cell_type": "code",
   "execution_count": null,
   "id": "40fa4531",
   "metadata": {},
   "outputs": [],
   "source": [
    "\"\"\"\n",
    "TODO: bivariate analysis of the following\n",
    "\n",
    "age and sex\n",
    "sex and class \n",
    "age and class \n",
    "\n",
    "TODO: multivariate analysis of age, sex and class\n",
    "\n",
    "TODO: label graphs appropriately\n",
    "\n",
    "TODO:  remaining columns to analyse = SibSp, Parch, Cabin, Embarked\n",
    "\n",
    "\"\"\""
   ]
  },
  {
   "cell_type": "code",
   "execution_count": null,
   "id": "e4f0c7f5",
   "metadata": {},
   "outputs": [],
   "source": [
    "\"\"\"\n",
    "this notebook contains exploratory data analysis the the Titanic dataset from Kaggle\n",
    "\n",
    "\n",
    "the goal is to understand what features affect the survival chances of the passengers\n",
    "\n",
    "\n",
    "note: we are using only the training data set for analysis, this is only 40.06% of the total number of passengers, \n",
    "this is because the test data does not contain the survived status for the passenger so would skew the analysis\n",
    "\n",
    "\"\"\""
   ]
  },
  {
   "cell_type": "code",
   "execution_count": 2,
   "id": "8942b972",
   "metadata": {},
   "outputs": [],
   "source": [
    "import pandas as pd\n",
    "\n",
    "# load training data\n",
    "training_data_fp = 'train.csv'\n",
    "td = pd.read_csv(training_data_fp)"
   ]
  },
  {
   "cell_type": "code",
   "execution_count": null,
   "id": "bd127efe",
   "metadata": {},
   "outputs": [],
   "source": [
    "\"\"\"\n",
    "get some basic stats about the training data using pandas\n",
    "\n",
    "\"\"\""
   ]
  },
  {
   "cell_type": "code",
   "execution_count": 3,
   "id": "cff0720b",
   "metadata": {},
   "outputs": [
    {
     "name": "stdout",
     "output_type": "stream",
     "text": [
      "891\n"
     ]
    }
   ],
   "source": [
    "# number of rows in dataframe\n",
    "print(len(td.index))"
   ]
  },
  {
   "cell_type": "code",
   "execution_count": 60,
   "id": "db398246",
   "metadata": {},
   "outputs": [
    {
     "data": {
      "text/html": [
       "<div>\n",
       "<style scoped>\n",
       "    .dataframe tbody tr th:only-of-type {\n",
       "        vertical-align: middle;\n",
       "    }\n",
       "\n",
       "    .dataframe tbody tr th {\n",
       "        vertical-align: top;\n",
       "    }\n",
       "\n",
       "    .dataframe thead th {\n",
       "        text-align: right;\n",
       "    }\n",
       "</style>\n",
       "<table border=\"1\" class=\"dataframe\">\n",
       "  <thead>\n",
       "    <tr style=\"text-align: right;\">\n",
       "      <th></th>\n",
       "      <th>PassengerId</th>\n",
       "      <th>Survived</th>\n",
       "      <th>Pclass</th>\n",
       "      <th>Name</th>\n",
       "      <th>Sex</th>\n",
       "      <th>Age</th>\n",
       "      <th>SibSp</th>\n",
       "      <th>Parch</th>\n",
       "      <th>Ticket</th>\n",
       "      <th>Fare</th>\n",
       "      <th>Cabin</th>\n",
       "      <th>Embarked</th>\n",
       "      <th>AgeGroup</th>\n",
       "    </tr>\n",
       "  </thead>\n",
       "  <tbody>\n",
       "    <tr>\n",
       "      <th>0</th>\n",
       "      <td>1</td>\n",
       "      <td>0</td>\n",
       "      <td>3</td>\n",
       "      <td>Braund, Mr. Owen Harris</td>\n",
       "      <td>male</td>\n",
       "      <td>22.0</td>\n",
       "      <td>1</td>\n",
       "      <td>0</td>\n",
       "      <td>A/5 21171</td>\n",
       "      <td>7.2500</td>\n",
       "      <td>NaN</td>\n",
       "      <td>S</td>\n",
       "      <td>young_adult</td>\n",
       "    </tr>\n",
       "    <tr>\n",
       "      <th>1</th>\n",
       "      <td>2</td>\n",
       "      <td>1</td>\n",
       "      <td>1</td>\n",
       "      <td>Cumings, Mrs. John Bradley (Florence Briggs Th...</td>\n",
       "      <td>female</td>\n",
       "      <td>38.0</td>\n",
       "      <td>1</td>\n",
       "      <td>0</td>\n",
       "      <td>PC 17599</td>\n",
       "      <td>71.2833</td>\n",
       "      <td>C85</td>\n",
       "      <td>C</td>\n",
       "      <td>adult</td>\n",
       "    </tr>\n",
       "    <tr>\n",
       "      <th>2</th>\n",
       "      <td>3</td>\n",
       "      <td>1</td>\n",
       "      <td>3</td>\n",
       "      <td>Heikkinen, Miss. Laina</td>\n",
       "      <td>female</td>\n",
       "      <td>26.0</td>\n",
       "      <td>0</td>\n",
       "      <td>0</td>\n",
       "      <td>STON/O2. 3101282</td>\n",
       "      <td>7.9250</td>\n",
       "      <td>NaN</td>\n",
       "      <td>S</td>\n",
       "      <td>young_adult</td>\n",
       "    </tr>\n",
       "    <tr>\n",
       "      <th>3</th>\n",
       "      <td>4</td>\n",
       "      <td>1</td>\n",
       "      <td>1</td>\n",
       "      <td>Futrelle, Mrs. Jacques Heath (Lily May Peel)</td>\n",
       "      <td>female</td>\n",
       "      <td>35.0</td>\n",
       "      <td>1</td>\n",
       "      <td>0</td>\n",
       "      <td>113803</td>\n",
       "      <td>53.1000</td>\n",
       "      <td>C123</td>\n",
       "      <td>S</td>\n",
       "      <td>adult</td>\n",
       "    </tr>\n",
       "    <tr>\n",
       "      <th>4</th>\n",
       "      <td>5</td>\n",
       "      <td>0</td>\n",
       "      <td>3</td>\n",
       "      <td>Allen, Mr. William Henry</td>\n",
       "      <td>male</td>\n",
       "      <td>35.0</td>\n",
       "      <td>0</td>\n",
       "      <td>0</td>\n",
       "      <td>373450</td>\n",
       "      <td>8.0500</td>\n",
       "      <td>NaN</td>\n",
       "      <td>S</td>\n",
       "      <td>adult</td>\n",
       "    </tr>\n",
       "  </tbody>\n",
       "</table>\n",
       "</div>"
      ],
      "text/plain": [
       "   PassengerId  Survived  Pclass  \\\n",
       "0            1         0       3   \n",
       "1            2         1       1   \n",
       "2            3         1       3   \n",
       "3            4         1       1   \n",
       "4            5         0       3   \n",
       "\n",
       "                                                Name     Sex   Age  SibSp  \\\n",
       "0                            Braund, Mr. Owen Harris    male  22.0      1   \n",
       "1  Cumings, Mrs. John Bradley (Florence Briggs Th...  female  38.0      1   \n",
       "2                             Heikkinen, Miss. Laina  female  26.0      0   \n",
       "3       Futrelle, Mrs. Jacques Heath (Lily May Peel)  female  35.0      1   \n",
       "4                           Allen, Mr. William Henry    male  35.0      0   \n",
       "\n",
       "   Parch            Ticket     Fare Cabin Embarked     AgeGroup  \n",
       "0      0         A/5 21171   7.2500   NaN        S  young_adult  \n",
       "1      0          PC 17599  71.2833   C85        C        adult  \n",
       "2      0  STON/O2. 3101282   7.9250   NaN        S  young_adult  \n",
       "3      0            113803  53.1000  C123        S        adult  \n",
       "4      0            373450   8.0500   NaN        S        adult  "
      ]
     },
     "execution_count": 60,
     "metadata": {},
     "output_type": "execute_result"
    }
   ],
   "source": [
    "# first few rows\n",
    "td.head()"
   ]
  },
  {
   "cell_type": "code",
   "execution_count": 61,
   "id": "0ceafb10",
   "metadata": {},
   "outputs": [
    {
     "data": {
      "text/html": [
       "<div>\n",
       "<style scoped>\n",
       "    .dataframe tbody tr th:only-of-type {\n",
       "        vertical-align: middle;\n",
       "    }\n",
       "\n",
       "    .dataframe tbody tr th {\n",
       "        vertical-align: top;\n",
       "    }\n",
       "\n",
       "    .dataframe thead th {\n",
       "        text-align: right;\n",
       "    }\n",
       "</style>\n",
       "<table border=\"1\" class=\"dataframe\">\n",
       "  <thead>\n",
       "    <tr style=\"text-align: right;\">\n",
       "      <th></th>\n",
       "      <th>PassengerId</th>\n",
       "      <th>Survived</th>\n",
       "      <th>Pclass</th>\n",
       "      <th>Age</th>\n",
       "      <th>SibSp</th>\n",
       "      <th>Parch</th>\n",
       "      <th>Fare</th>\n",
       "    </tr>\n",
       "  </thead>\n",
       "  <tbody>\n",
       "    <tr>\n",
       "      <th>count</th>\n",
       "      <td>891.000000</td>\n",
       "      <td>891.000000</td>\n",
       "      <td>891.000000</td>\n",
       "      <td>714.000000</td>\n",
       "      <td>891.000000</td>\n",
       "      <td>891.000000</td>\n",
       "      <td>891.000000</td>\n",
       "    </tr>\n",
       "    <tr>\n",
       "      <th>mean</th>\n",
       "      <td>446.000000</td>\n",
       "      <td>0.383838</td>\n",
       "      <td>2.308642</td>\n",
       "      <td>29.699118</td>\n",
       "      <td>0.523008</td>\n",
       "      <td>0.381594</td>\n",
       "      <td>32.204208</td>\n",
       "    </tr>\n",
       "    <tr>\n",
       "      <th>std</th>\n",
       "      <td>257.353842</td>\n",
       "      <td>0.486592</td>\n",
       "      <td>0.836071</td>\n",
       "      <td>14.526497</td>\n",
       "      <td>1.102743</td>\n",
       "      <td>0.806057</td>\n",
       "      <td>49.693429</td>\n",
       "    </tr>\n",
       "    <tr>\n",
       "      <th>min</th>\n",
       "      <td>1.000000</td>\n",
       "      <td>0.000000</td>\n",
       "      <td>1.000000</td>\n",
       "      <td>0.420000</td>\n",
       "      <td>0.000000</td>\n",
       "      <td>0.000000</td>\n",
       "      <td>0.000000</td>\n",
       "    </tr>\n",
       "    <tr>\n",
       "      <th>25%</th>\n",
       "      <td>223.500000</td>\n",
       "      <td>0.000000</td>\n",
       "      <td>2.000000</td>\n",
       "      <td>20.125000</td>\n",
       "      <td>0.000000</td>\n",
       "      <td>0.000000</td>\n",
       "      <td>7.910400</td>\n",
       "    </tr>\n",
       "    <tr>\n",
       "      <th>50%</th>\n",
       "      <td>446.000000</td>\n",
       "      <td>0.000000</td>\n",
       "      <td>3.000000</td>\n",
       "      <td>28.000000</td>\n",
       "      <td>0.000000</td>\n",
       "      <td>0.000000</td>\n",
       "      <td>14.454200</td>\n",
       "    </tr>\n",
       "    <tr>\n",
       "      <th>75%</th>\n",
       "      <td>668.500000</td>\n",
       "      <td>1.000000</td>\n",
       "      <td>3.000000</td>\n",
       "      <td>38.000000</td>\n",
       "      <td>1.000000</td>\n",
       "      <td>0.000000</td>\n",
       "      <td>31.000000</td>\n",
       "    </tr>\n",
       "    <tr>\n",
       "      <th>max</th>\n",
       "      <td>891.000000</td>\n",
       "      <td>1.000000</td>\n",
       "      <td>3.000000</td>\n",
       "      <td>80.000000</td>\n",
       "      <td>8.000000</td>\n",
       "      <td>6.000000</td>\n",
       "      <td>512.329200</td>\n",
       "    </tr>\n",
       "  </tbody>\n",
       "</table>\n",
       "</div>"
      ],
      "text/plain": [
       "       PassengerId    Survived      Pclass         Age       SibSp  \\\n",
       "count   891.000000  891.000000  891.000000  714.000000  891.000000   \n",
       "mean    446.000000    0.383838    2.308642   29.699118    0.523008   \n",
       "std     257.353842    0.486592    0.836071   14.526497    1.102743   \n",
       "min       1.000000    0.000000    1.000000    0.420000    0.000000   \n",
       "25%     223.500000    0.000000    2.000000   20.125000    0.000000   \n",
       "50%     446.000000    0.000000    3.000000   28.000000    0.000000   \n",
       "75%     668.500000    1.000000    3.000000   38.000000    1.000000   \n",
       "max     891.000000    1.000000    3.000000   80.000000    8.000000   \n",
       "\n",
       "            Parch        Fare  \n",
       "count  891.000000  891.000000  \n",
       "mean     0.381594   32.204208  \n",
       "std      0.806057   49.693429  \n",
       "min      0.000000    0.000000  \n",
       "25%      0.000000    7.910400  \n",
       "50%      0.000000   14.454200  \n",
       "75%      0.000000   31.000000  \n",
       "max      6.000000  512.329200  "
      ]
     },
     "execution_count": 61,
     "metadata": {},
     "output_type": "execute_result"
    }
   ],
   "source": [
    "# pandas descriptive statistics\n",
    "td.describe()"
   ]
  },
  {
   "cell_type": "code",
   "execution_count": 62,
   "id": "71869299",
   "metadata": {},
   "outputs": [
    {
     "data": {
      "text/plain": [
       "PassengerId    False\n",
       "Survived       False\n",
       "Pclass         False\n",
       "Name           False\n",
       "Sex            False\n",
       "Age             True\n",
       "SibSp          False\n",
       "Parch          False\n",
       "Ticket         False\n",
       "Fare           False\n",
       "Cabin           True\n",
       "Embarked        True\n",
       "AgeGroup       False\n",
       "dtype: bool"
      ]
     },
     "execution_count": 62,
     "metadata": {},
     "output_type": "execute_result"
    }
   ],
   "source": [
    "# which columns have NaN values\n",
    "td.isna().any()"
   ]
  },
  {
   "cell_type": "code",
   "execution_count": null,
   "id": "403ab668",
   "metadata": {},
   "outputs": [],
   "source": [
    "\"\"\"\n",
    "investigating the 'Survived' dataframe column\n",
    "\"\"\""
   ]
  },
  {
   "cell_type": "code",
   "execution_count": 9,
   "id": "2d29aab7",
   "metadata": {},
   "outputs": [
    {
     "name": "stdout",
     "output_type": "stream",
     "text": [
      "342\n"
     ]
    }
   ],
   "source": [
    "# sum of values in Survived column \n",
    "# this results in the number of survivors because a value of 1 means passenger survived\n",
    "# and a value of 0 means the passenger died\n",
    "print(sum(td['Survived']))"
   ]
  },
  {
   "cell_type": "code",
   "execution_count": 8,
   "id": "30f27a70",
   "metadata": {},
   "outputs": [
    {
     "name": "stdout",
     "output_type": "stream",
     "text": [
      "0    549\n",
      "1    342\n",
      "Name: Survived, dtype: int64\n"
     ]
    }
   ],
   "source": [
    "# count of each value in column\n",
    "print(td['Survived'].value_counts())"
   ]
  },
  {
   "cell_type": "code",
   "execution_count": 10,
   "id": "39aa7526",
   "metadata": {},
   "outputs": [
    {
     "name": "stdout",
     "output_type": "stream",
     "text": [
      "38.38383838383838% of passengers survived\n"
     ]
    }
   ],
   "source": [
    "# percent of passengers that survived\n",
    "print(str(sum(td['Survived'])/len(td.index)*100) + \"% of passengers survived\")"
   ]
  },
  {
   "cell_type": "code",
   "execution_count": 11,
   "id": "93cf24c7",
   "metadata": {},
   "outputs": [
    {
     "name": "stdout",
     "output_type": "stream",
     "text": [
      "61.61616161616161% of passengers passed away\n"
     ]
    }
   ],
   "source": [
    "# percent of passengers that passed away\n",
    "print(str(len(td.loc[td['Survived'] == 0])/len(td.index)*100) + \"% of passengers passed away\")"
   ]
  },
  {
   "cell_type": "code",
   "execution_count": null,
   "id": "a6f6eb47",
   "metadata": {},
   "outputs": [],
   "source": [
    "\"\"\"\n",
    "using matplotlib to describe survival rates\n",
    "\"\"\""
   ]
  },
  {
   "cell_type": "code",
   "execution_count": 4,
   "id": "8dab9249",
   "metadata": {},
   "outputs": [
    {
     "data": {
      "image/png": "[encoded data removed]",
      "text/plain": [
       "<Figure size 432x288 with 1 Axes>"
      ]
     },
     "metadata": {
      "needs_background": "light"
     },
     "output_type": "display_data"
    }
   ],
   "source": [
    "# importing matplotlib for plotting\n",
    "import matplotlib.pyplot as plt\n",
    "\n",
    "\n",
    "# plot survived against died\n",
    "no_surv = int(sum(td['Survived']))\n",
    "no_died = int(len(td.loc[td['Survived'] == 0]))\n",
    "\n",
    "x = ['Survived', 'Died']\n",
    "y = [no_surv, no_died]\n",
    "\n",
    "fig, ax = plt.subplots()\n",
    "ax.bar(x, y, width=1, edgecolor=\"white\", linewidth=0.7)\n",
    "\n",
    "plt.show()"
   ]
  },
  {
   "cell_type": "code",
   "execution_count": 7,
   "id": "8b3cb381",
   "metadata": {},
   "outputs": [
    {
     "data": {
      "text/plain": [
       "<AxesSubplot:xlabel='Survived'>"
      ]
     },
     "execution_count": 7,
     "metadata": {},
     "output_type": "execute_result"
    },
    {
     "data": {
      "image/png": "[encoded data removed]",
      "text/plain": [
       "<Figure size 432x288 with 1 Axes>"
      ]
     },
     "metadata": {
      "needs_background": "light"
     },
     "output_type": "display_data"
    }
   ],
   "source": [
    "# plot survived against died by sex\n",
    "td.groupby(['Survived','Sex']).size().unstack().plot(kind='bar',stacked=True)"
   ]
  },
  {
   "cell_type": "code",
   "execution_count": 23,
   "id": "154d39e7",
   "metadata": {},
   "outputs": [
    {
     "name": "stdout",
     "output_type": "stream",
     "text": [
      "577 number of men onboard\n",
      "468 men died\n",
      "109 men survived\n",
      "18.890814558058924% chance of survival if male\n",
      "\n",
      "\n",
      "314 number of women onboard\n",
      "81 women died\n",
      "233 women survived\n",
      "74.20382165605095% chance of survival if female\n"
     ]
    }
   ],
   "source": [
    "# breakdown of survival chance by sex \n",
    "\n",
    "# total number of men\n",
    "men_total = td.loc[(td.Sex.isin(['male']))]\n",
    "print(str(len(men_total)) + \" number of men onboard\")\n",
    "\n",
    "# number of men that died\n",
    "men_died = td.loc[(td.Sex.isin(['male'])) & (td.Survived == 0)]\n",
    "print(str(len(men_died)) + \" men died\")\n",
    "\n",
    "# number of men that survived\n",
    "men_survived = td.loc[(td.Sex.isin(['male'])) & (td.Survived == 1)]\n",
    "print(str(len(men_survived)) + \" men survived\")\n",
    "\n",
    "# survival chance if male\n",
    "print(str(len(men_survived)/len(men_total)*100) + \"% chance of survival if male\")\n",
    "print(\"\\n\")\n",
    "\n",
    "# total number of women\n",
    "women_total = td.loc[(td.Sex.isin(['female']))]\n",
    "print(str(len(women_total)) + \" number of women onboard\")\n",
    "\n",
    "# number of women that died\n",
    "women_died = td.loc[(td.Sex.isin(['female'])) & (td.Survived == 0)]\n",
    "print(str(len(women_died)) + \" women died\")\n",
    "\n",
    "# number of women that survived\n",
    "women_survived = td.loc[(td.Sex.isin(['female'])) & (td.Survived == 1)]\n",
    "print(str(len(women_survived)) + \" women survived\")\n",
    "\n",
    "# survival chance if female\n",
    "print(str(len(women_survived)/len(women_total)*100) + \"% chance of survival if female\")"
   ]
  },
  {
   "cell_type": "code",
   "execution_count": null,
   "id": "e1ee9f27",
   "metadata": {},
   "outputs": [],
   "source": [
    "\"\"\"\n",
    "from the above statistics we can conclude you have a significantly better chance of survival if you are female\n",
    "\n",
    "there is a 55.31% increased chance of survival if you are a female passenger compared to a male passenger\n",
    "\n",
    "however the dataset may be biased as it only contains 891 rows (when there were 2,240 passengers in total)\n",
    "\n",
    "this should be considered if the ML model trained on this data is not as accurate as expected\n",
    "(which can be said about any particular feature from an incomplete dataset)\n",
    "\n",
    "\"\"\""
   ]
  },
  {
   "cell_type": "code",
   "execution_count": 9,
   "id": "a83f39e7",
   "metadata": {},
   "outputs": [
    {
     "data": {
      "text/plain": [
       "<AxesSubplot:xlabel='Survived'>"
      ]
     },
     "execution_count": 9,
     "metadata": {},
     "output_type": "execute_result"
    },
    {
     "data": {
      "image/png": "[encoded data removed]",
      "text/plain": [
       "<Figure size 432x288 with 1 Axes>"
      ]
     },
     "metadata": {
      "needs_background": "light"
     },
     "output_type": "display_data"
    }
   ],
   "source": [
    "# plot survived against died by passenger class\n",
    "td.groupby(['Survived','Pclass']).size().unstack().plot(kind='bar',stacked=True)"
   ]
  },
  {
   "cell_type": "code",
   "execution_count": 24,
   "id": "313100ed",
   "metadata": {},
   "outputs": [
    {
     "data": {
      "text/plain": [
       "<AxesSubplot:xlabel='Survived'>"
      ]
     },
     "execution_count": 24,
     "metadata": {},
     "output_type": "execute_result"
    },
    {
     "data": {
      "image/png": "[encoded data removed]",
      "text/plain": [
       "<Figure size 432x288 with 1 Axes>"
      ]
     },
     "metadata": {
      "needs_background": "light"
     },
     "output_type": "display_data"
    }
   ],
   "source": [
    "td.groupby(['Survived','Pclass']).size().unstack().plot(kind='bar',stacked=False)"
   ]
  },
  {
   "cell_type": "code",
   "execution_count": 26,
   "id": "15e124ab",
   "metadata": {},
   "outputs": [
    {
     "name": "stdout",
     "output_type": "stream",
     "text": [
      "216 1st class passengers onboard\n",
      "80 1st class passengers died\n",
      "136 1st class passengers survived\n",
      "62.96296296296296% chance of survival if 1st class passenger\n",
      "\n",
      "\n",
      "184 2nd class passengers onboard\n",
      "97 2nd class passengers died\n",
      "87 2nd class passengers survived\n",
      "47.28260869565217% chance of survival if 2nd class passenger\n",
      "\n",
      "\n",
      "491 3rd class passengers onboard\n",
      "372 3rd class passengers died\n",
      "119 3rd class passengers survived\n",
      "24.236252545824847% chance of survival if 3rd class passenger\n"
     ]
    }
   ],
   "source": [
    "# breakdown of survival chance by passenger class\n",
    " \n",
    "# total number of first class passengers\n",
    "first_class_total = td.loc[(td.Pclass == 1)]\n",
    "print(str(len(first_class_total)) + \" 1st class passengers onboard\")\n",
    "\n",
    "# total number of first class passengers that died\n",
    "first_class_died = td.loc[(td.Pclass == 1) & (td.Survived == 0)]\n",
    "print(str(len(first_class_died)) + \" 1st class passengers died\")\n",
    "\n",
    "# total number of first class passengers that survived\n",
    "first_class_survived = td.loc[(td.Pclass == 1) & (td.Survived == 1)]\n",
    "print(str(len(first_class_survived)) + \" 1st class passengers survived\")\n",
    "\n",
    "# percent chance of survival if first class\n",
    "print(str(len(first_class_survived)/len(first_class_total)*100) + \"% chance of survival if 1st class passenger\")\n",
    "print(\"\\n\")\n",
    "\n",
    "# total number of second class passengers\n",
    "second_class_total = td.loc[(td.Pclass == 2)]\n",
    "print(str(len(second_class_total)) + \" 2nd class passengers onboard\")\n",
    "\n",
    "# total number of second class passengers that died\n",
    "second_class_died = td.loc[(td.Pclass == 2) & (td.Survived == 0)]\n",
    "print(str(len(second_class_died)) + \" 2nd class passengers died\")\n",
    "\n",
    "# total number of first class passengers that survived\n",
    "second_class_survived = td.loc[(td.Pclass == 2) & (td.Survived == 1)]\n",
    "print(str(len(second_class_survived)) + \" 2nd class passengers survived\")\n",
    "\n",
    "# percent chance of survival if second class\n",
    "print(str(len(second_class_survived)/len(second_class_total)*100) + \"% chance of survival if 2nd class passenger\")\n",
    "print(\"\\n\")\n",
    "\n",
    "# total number of third class passengers\n",
    "third_class_total = td.loc[(td.Pclass == 3)]\n",
    "print(str(len(third_class_total)) + \" 3rd class passengers onboard\")\n",
    "\n",
    "# total number of third class passengers that died \n",
    "third_class_died = td.loc[(td.Pclass == 3) & (td.Survived == 0)]\n",
    "print(str(len(third_class_died)) + \" 3rd class passengers died\")\n",
    "\n",
    "# total number of third class passengers that survived\n",
    "third_class_survived = td.loc[(td.Pclass == 3) & (td.Survived == 1)]\n",
    "print(str(len(third_class_survived)) + \" 3rd class passengers survived\")\n",
    "\n",
    "# percet chance of survival if third class\n",
    "print(str(len(third_class_survived)/len(third_class_total)*100) + \"% chance of survival if 3rd class passenger\")"
   ]
  },
  {
   "cell_type": "code",
   "execution_count": null,
   "id": "b6a120dd",
   "metadata": {},
   "outputs": [],
   "source": [
    "\"\"\"\n",
    "the above statistics show that passenger class is a strong predicator of survival chance\n",
    "\n",
    "there is a 38.72% increased chance of survival if you are a 1st class passenger compared to a 3rd class passenger\n",
    "\n",
    "again, bias could be an issue here due to the number of third class passengers vs second and first class\n",
    "but likely less so than sex as it is a slightly more even distribution of data\n",
    "\"\"\""
   ]
  },
  {
   "cell_type": "code",
   "execution_count": 30,
   "id": "bb770f87",
   "metadata": {},
   "outputs": [
    {
     "data": {
      "text/plain": [
       "<AxesSubplot:xlabel='Survived'>"
      ]
     },
     "execution_count": 30,
     "metadata": {},
     "output_type": "execute_result"
    },
    {
     "data": {
      "image/png": "[encoded data removed]",
      "text/plain": [
       "<Figure size 432x288 with 1 Axes>"
      ]
     },
     "metadata": {
      "needs_background": "light"
     },
     "output_type": "display_data"
    }
   ],
   "source": [
    "# plot survived against died by age group \n",
    "\"\"\"\n",
    "age groups have been categorized as the following:\n",
    "\n",
    "0-16 : child\n",
    "17-30 : young adult\n",
    "31-65 : adult\n",
    "65+ : senior\n",
    "\n",
    "worth noting the age column contains NaN values that must be accounted for\n",
    "\n",
    "depending on the approach we can either drop these, or replace the NaN with the mean/avg \n",
    "\"\"\"\n",
    "\n",
    "# first we must bucket the age's into the age groups and add the result to the dataframe as a new column\n",
    "import numpy as np\n",
    "\n",
    "# create a list of conditions for age group\n",
    "age_groups = [\n",
    "    ((td.Age >= 0) & (td.Age <= 16)),\n",
    "    ((td.Age >= 17) & (td.Age <= 30)),\n",
    "    ((td.Age >= 31) & (td.Age <= 65)),\n",
    "    ((td.Age > 65))\n",
    "]\n",
    "\n",
    "# names for the age groups\n",
    "group_names = [\"child\", \"young_adult\", \"adult\", \"senior\"]\n",
    "\n",
    "# use numpy select method to add age group to dataframe\n",
    "td['AgeGroup'] = np.select(age_groups, group_names)\n",
    "\n",
    "# check first 5 rows to validate if AgeGroup is applied accurately\n",
    "td.head()\n",
    "\n",
    "# plot a graph of Survived by Age group\n",
    "td.groupby(['Survived','AgeGroup']).size().unstack().plot(kind='bar',stacked=True)\n",
    "\n",
    "\n"
   ]
  },
  {
   "cell_type": "code",
   "execution_count": 8,
   "id": "2d15b497",
   "metadata": {},
   "outputs": [
    {
     "data": {
      "image/png": "[encoded data removed]",
      "text/plain": [
       "<Figure size 432x288 with 1 Axes>"
      ]
     },
     "metadata": {
      "needs_background": "light"
     },
     "output_type": "display_data"
    }
   ],
   "source": [
    "# plot survival chance by age spread\n",
    "died = td.loc[(td.Survived == 0)]\n",
    "survived = td.loc[(td.Survived == 1)]\n",
    "n_bins = 40\n",
    "\n",
    "x = died[\"Age\"]\n",
    "y = survived[\"Age\"]\n",
    "\n",
    "plt.hist(x, n_bins, alpha=0.5, label='died')\n",
    "plt.hist(y, n_bins, alpha=0.5, label='survived')\n",
    "plt.legend(loc='upper right')\n",
    "plt.show()"
   ]
  },
  {
   "cell_type": "code",
   "execution_count": 50,
   "id": "232bf8fd",
   "metadata": {},
   "outputs": [
    {
     "name": "stdout",
     "output_type": "stream",
     "text": [
      "100 children onboard\n",
      "45 children died\n",
      "55 children survived\n",
      "55.00000000000001% chance of survival if child\n",
      "\n",
      "\n",
      "309 young adults onboard\n",
      "198 young adults died\n",
      "111 young adults survived\n",
      "35.92233009708738% chance of survival if young adult\n",
      "\n",
      "\n",
      "295 adults onboard\n",
      "172 adults died\n",
      "123 adults survived\n",
      "41.69491525423729% chance of survival if adult\n",
      "\n",
      "\n",
      "8 seniors onboard\n",
      "7 seniors died\n",
      "1 seniors survived\n",
      "12.5% chance of survival if senior\n",
      "\n",
      "\n"
     ]
    }
   ],
   "source": [
    "# breakdown of survival chance by age group \n",
    "\n",
    "# total number of children on board\n",
    "total_children = td.loc[(td.Age >= 0) & (td.Age <= 16)]\n",
    "print(str(len(total_children)) + \" children onboard\")\n",
    "\n",
    "# total number of children that died \n",
    "total_children_died = td.loc[(td.Age >= 0) & (td.Age <= 16) & (td.Survived == 0)]\n",
    "print(str(len(total_children_died)) + \" children died\")\n",
    "\n",
    "# total number of children that survived\n",
    "total_children_survived = td.loc[(td.Age >= 0) & (td.Age <= 16) & (td.Survived == 1)]\n",
    "print(str(len(total_children_survived)) + \" children survived\")\n",
    "\n",
    "# percent chance of survival if child\n",
    "print(str(len(total_children_survived)/len(total_children)*100) + \"% chance of survival if child\")\n",
    "print(\"\\n\")\n",
    "\n",
    "\n",
    "# total number of young adults onboard\n",
    "total_young_adult = td.loc[(td.Age >= 17) & (td.Age <= 30)]\n",
    "print(str(len(total_young_adult)) + \" young adults onboard\")\n",
    "\n",
    "# total number of young adults died \n",
    "total_young_adults_died = td.loc[(td.Age >= 17) & (td.Age <= 30) & (td.Survived == 0)]\n",
    "print(str(len(total_young_adults_died)) + \" young adults died\")\n",
    "\n",
    "# total number of young adults survived\n",
    "total_young_adults_survived = td.loc[(td.Age >= 17) & (td.Age <= 30) & (td.Survived == 1)]\n",
    "print(str(len(total_young_adults_survived)) + \" young adults survived\")\n",
    "\n",
    "# percent chance of survival if young adult\n",
    "print(str(len(total_young_adults_survived )/len(total_young_adult)*100) + \"% chance of survival if young adult\")\n",
    "print(\"\\n\")\n",
    "\n",
    "\n",
    "# total number of adults onboard\n",
    "total_adults = td.loc[(td.Age >= 31) & (td.Age <= 65)]\n",
    "print(str(len(total_adults)) + \" adults onboard\")\n",
    "\n",
    "# total number of adults died\n",
    "total_adults_died = td.loc[(td.Age >= 31) & (td.Age <= 65) & (td.Survived == 0)]\n",
    "print(str(len(total_adults_died)) + \" adults died\")\n",
    "\n",
    "# total number of adults survived\n",
    "total_adults_survived = td.loc[(td.Age >= 31) & (td.Age <= 65) & (td.Survived == 1)]\n",
    "print(str(len(total_adults_survived)) + \" adults survived\")\n",
    "\n",
    "# percent chance of survival if adult\n",
    "print(str(len(total_adults_survived)/len(total_adults)*100) + \"% chance of survival if adult\")\n",
    "print(\"\\n\")\n",
    "\n",
    "\n",
    "# total number of seniors\n",
    "total_seniors = td.loc[(td.Age > 65)]\n",
    "print(str(len(total_seniors)) + \" seniors onboard\")\n",
    "\n",
    "# total number of seniors died\n",
    "total_seniors_died = td.loc[(td.Age > 65) & (td.Survived == 0)]\n",
    "print(str(len(total_seniors_died)) + \" seniors died\")\n",
    "\n",
    "# total number of seniors survived\n",
    "total_seniors_survived = td.loc[(td.Age > 65) & (td.Survived == 1)]\n",
    "print(str(len(total_seniors_survived)) + \" seniors survived\")\n",
    "\n",
    "# percent chance of survival if senior\n",
    "print(str(len(total_seniors_survived)/len(total_seniors)*100) + \"% chance of survival if senior\")\n"
   ]
  },
  {
   "cell_type": "code",
   "execution_count": null,
   "id": "eff8ea5f",
   "metadata": {},
   "outputs": [],
   "source": [
    "\"\"\"\n",
    "the above shows age group has a a reasonably significant impact on survival chance\n",
    "\n",
    "children have the best chance of survival at 55% and seniors the lowest at 12.5% \n",
    "however only 8 seniors were onboard so this could be very biased\n",
    "\n",
    "suprisignly, young adults had a lesser chance than adult of survival of about 5%\n",
    "multivariate analysis may show that young adults are typically in a lower passenger\n",
    "class which may explain the lesser chance of survival compared with adults\n",
    "\"\"\""
   ]
  },
  {
   "cell_type": "code",
   "execution_count": 14,
   "id": "d23ba725",
   "metadata": {},
   "outputs": [
    {
     "name": "stdout",
     "output_type": "stream",
     "text": [
      "512.3292 was the max cost for a single ticket\n",
      "0.0 was the min cost for a single ticket\n",
      "32.204207968574636 was the mean cost for a single ticket\n"
     ]
    },
    {
     "data": {
      "text/plain": [
       "<AxesSubplot:ylabel='Density'>"
      ]
     },
     "execution_count": 14,
     "metadata": {},
     "output_type": "execute_result"
    },
    {
     "data": {
      "image/png": "[encoded data removed]",
      "text/plain": [
       "<Figure size 432x288 with 1 Axes>"
      ]
     },
     "metadata": {
      "needs_background": "light"
     },
     "output_type": "display_data"
    }
   ],
   "source": [
    "# does the cost of a passenger ticket influence survival chance? \n",
    "\n",
    "# first lets check the spread of values for passenger Fare\n",
    "print(str(td[\"Fare\"].max()) + \" was the max cost for a single ticket\")\n",
    "print(str(td[\"Fare\"].min()) + \" was the min cost for a single ticket\")\n",
    "print(str(td[\"Fare\"].mean()) + \" was the mean cost for a single ticket\")\n",
    "\n",
    "td.Fare.plot(kind='kde')"
   ]
  },
  {
   "cell_type": "code",
   "execution_count": 4,
   "id": "20396d48",
   "metadata": {},
   "outputs": [
    {
     "data": {
      "image/png": "[encoded data removed]",
      "text/plain": [
       "<Figure size 432x288 with 1 Axes>"
      ]
     },
     "metadata": {
      "needs_background": "light"
     },
     "output_type": "display_data"
    }
   ],
   "source": [
    "# the above shows the vast majority of fares were below 100 \n",
    "\n",
    "# spread of Fare Values by number of passengers\n",
    "x = td[\"Fare\"]\n",
    "n_bins = 40\n",
    "plt.hist(x, n_bins)\n",
    "plt.show()"
   ]
  },
  {
   "cell_type": "code",
   "execution_count": 5,
   "id": "f835a712",
   "metadata": {},
   "outputs": [
    {
     "data": {
      "image/png": "[encoded data removed]",
      "text/plain": [
       "<Figure size 432x288 with 1 Axes>"
      ]
     },
     "metadata": {
      "needs_background": "light"
     },
     "output_type": "display_data"
    }
   ],
   "source": [
    "# plot survived status against Fare\n",
    "died = td.loc[(td.Survived == 0)]\n",
    "survived = td.loc[(td.Survived == 1)]\n",
    "n_bins = 20\n",
    "\n",
    "x = died[\"Fare\"]\n",
    "y = survived[\"Fare\"]\n",
    "\n",
    "plt.hist(x, n_bins, alpha=0.5, label='died')\n",
    "plt.hist(y, n_bins, alpha=0.5, label='survived')\n",
    "plt.legend(loc='upper right')\n",
    "plt.show()"
   ]
  },
  {
   "cell_type": "code",
   "execution_count": 35,
   "id": "715045b2",
   "metadata": {},
   "outputs": [
    {
     "data": {
      "image/png": "[encoded data removed]",
      "text/plain": [
       "<Figure size 432x288 with 1 Axes>"
      ]
     },
     "metadata": {
      "needs_background": "light"
     },
     "output_type": "display_data"
    }
   ],
   "source": [
    "# plot survived status against Fare (alternate visualization)\n",
    "died = td.loc[(td.Survived == 0)]\n",
    "survived = td.loc[(td.Survived == 1)]\n",
    "n_bins = 20\n",
    "\n",
    "x = died[\"Fare\"]\n",
    "y = survived[\"Fare\"]\n",
    "\n",
    "plt.hist([x,y], n_bins, label=['died','survived'])\n",
    "plt.legend(loc='upper right')\n",
    "plt.show()"
   ]
  },
  {
   "cell_type": "code",
   "execution_count": null,
   "id": "bb94c3bf",
   "metadata": {},
   "outputs": [],
   "source": [
    "\"\"\"\n",
    "we can see that those passengers who paid less for their ticket had a less chance of survival ( around <50 )\n",
    "those who paid more for their ticket had a greater chance of survival ( around > 50 )\n",
    "\n",
    "however the Fare price seems to be a less distinctive feature of survival chance compared to sex, class and age\n",
    "next we can bucket the Fare prices and calculate the percent chance of each group to get a clearer picture  \n",
    "we will use the following ranges for classifying fare group\n",
    "\n",
    "low cost fare : <25\n",
    "medium cost fare : >25 <50\n",
    "high cost fare : >50 <75\n",
    "very high cost fare : > 75\n",
    "\n",
    "\"\"\""
   ]
  },
  {
   "cell_type": "code",
   "execution_count": 9,
   "id": "1424fab4",
   "metadata": {},
   "outputs": [
    {
     "name": "stdout",
     "output_type": "stream",
     "text": [
      "557 low cost fare on board\n",
      "397 low cost fare died\n",
      "160 low cost fare survived\n",
      "28.725314183123878% chance of survival if low cost fare\n",
      "\n",
      "\n",
      "174 medium cost fare on board\n",
      "101 medium cost fare died\n",
      "73 medium cost fare survived\n",
      "41.95402298850575% chance of survival if medium cost fare\n",
      "\n",
      "\n",
      "63 high cost fare on board\n",
      "28 high cost fare died\n",
      "35 high cost fare survived\n",
      "55.55555555555556% chance of survival if high cost fare\n",
      "\n",
      "\n",
      "97 high cost fare on board\n",
      "23 high cost fare died\n",
      "74 high cost fare survived\n",
      "76.28865979381443% chance of survival if very high cost fare\n"
     ]
    }
   ],
   "source": [
    "# breakdown of survival chance by fare group \n",
    "\n",
    "# total number of low cost fare on board\n",
    "total_low_cost_fare = td.loc[(td.Fare >= 0) & (td.Fare <= 25)]\n",
    "print(str(len(total_low_cost_fare)) + \" low cost fare on board\")\n",
    "\n",
    "# total number of low cost fare that died \n",
    "total_low_cost_fare_died = td.loc[(td.Fare >= 0) & (td.Fare <= 25) & (td.Survived == 0)]\n",
    "print(str(len(total_low_cost_fare_died)) + \" low cost fare died\")\n",
    "\n",
    "# total number of low cost fare that survived\n",
    "total_low_cost_fare_survived = td.loc[(td.Fare >= 0) & (td.Fare <= 25) & (td.Survived == 1)]\n",
    "print(str(len(total_low_cost_fare_survived)) + \" low cost fare survived\")\n",
    "\n",
    "# percent chance of survival if low cost fare\n",
    "print(str(len(total_low_cost_fare_survived)/len(total_low_cost_fare)*100) + \"% chance of survival if low cost fare\")\n",
    "print(\"\\n\")\n",
    "\n",
    "\n",
    "# total number of medium cost fare on board\n",
    "total_medium_cost_fare = td.loc[(td.Fare > 25) & (td.Fare <= 50)]\n",
    "print(str(len(total_medium_cost_fare)) + \" medium cost fare on board\")\n",
    "\n",
    "# total number of medium cost fare that died \n",
    "total_medium_cost_fare_died = td.loc[(td.Fare > 25) & (td.Fare <= 50) & (td.Survived == 0)]\n",
    "print(str(len(total_medium_cost_fare_died)) + \" medium cost fare died\")\n",
    "\n",
    "# total number of medium cost fare that survived\n",
    "total_medium_cost_fare_survived = td.loc[(td.Fare > 25) & (td.Fare <= 50) & (td.Survived == 1)]\n",
    "print(str(len(total_medium_cost_fare_survived)) + \" medium cost fare survived\")\n",
    "\n",
    "# percent chance of survival if medium cost fare\n",
    "print(str(len(total_medium_cost_fare_survived)/len(total_medium_cost_fare)*100) + \"% chance of survival if medium cost fare\")\n",
    "print(\"\\n\")\n",
    "\n",
    "\n",
    "# total number of high cost fare on board\n",
    "total_high_cost_fare = td.loc[(td.Fare > 50) & (td.Fare <= 75)]\n",
    "print(str(len(total_high_cost_fare)) + \" high cost fare on board\")\n",
    "\n",
    "# total number of high cost fare that died \n",
    "total_high_cost_fare_died = td.loc[(td.Fare > 50) & (td.Fare <= 75) & (td.Survived == 0)]\n",
    "print(str(len(total_high_cost_fare_died)) + \" high cost fare died\")\n",
    "\n",
    "# total number of high cost fare that survived\n",
    "total_high_cost_fare_survived = td.loc[(td.Fare > 50) & (td.Fare <= 75) & (td.Survived == 1)]\n",
    "print(str(len(total_high_cost_fare_survived)) + \" high cost fare survived\")\n",
    "\n",
    "# percent chance of survival if high cost fare\n",
    "print(str(len(total_high_cost_fare_survived)/len(total_high_cost_fare)*100) + \"% chance of survival if high cost fare\")\n",
    "print(\"\\n\")\n",
    "\n",
    "\n",
    "# total number of very high cost fare on board\n",
    "total_vhigh_cost_fare = td.loc[(td.Fare > 75)]\n",
    "print(str(len(total_vhigh_cost_fare)) + \" high cost fare on board\")\n",
    "\n",
    "# total number of very high cost fare that died \n",
    "total_vhigh_cost_fare_died = td.loc[(td.Fare > 75) & (td.Survived == 0)]\n",
    "print(str(len(total_vhigh_cost_fare_died)) + \" high cost fare died\")\n",
    "\n",
    "# total number of very high cost fare that survived\n",
    "total_vhigh_cost_fare_survived = td.loc[(td.Fare > 75) & (td.Survived == 1)]\n",
    "print(str(len(total_vhigh_cost_fare_survived)) + \" high cost fare survived\")\n",
    "\n",
    "# percent chance of survival if very high cost fare\n",
    "print(str(len(total_vhigh_cost_fare_survived)/len(total_vhigh_cost_fare)*100) + \"% chance of survival if very high cost fare\")\n"
   ]
  },
  {
   "cell_type": "code",
   "execution_count": 22,
   "id": "3abb52bb",
   "metadata": {},
   "outputs": [
    {
     "data": {
      "image/png": "[encoded data removed]",
      "text/plain": [
       "<Figure size 432x288 with 1 Axes>"
      ]
     },
     "metadata": {
      "needs_background": "light"
     },
     "output_type": "display_data"
    }
   ],
   "source": [
    "# plot fare price group survival chance (percent vs group)\n",
    "\n",
    "low_cost_surv_chance = len(total_low_cost_fare_survived)/len(total_low_cost_fare)*100\n",
    "medium_cost_surv_chance = len(total_medium_cost_fare_survived)/len(total_medium_cost_fare)*100\n",
    "high_cost_surv_chance = len(total_high_cost_fare_survived)/len(total_high_cost_fare)*100\n",
    "vhigh_cost_surv_chance = len(total_vhigh_cost_fare_survived)/len(total_vhigh_cost_fare)*100\n",
    "\n",
    "surv_chances = [low_cost_surv_chance, medium_cost_surv_chance, high_cost_surv_chance, vhigh_cost_surv_chance]\n",
    "fare_class = [\"low cost fare\", \"medium cost fare\", \"high cost fare\", \"very high cost fare\"]\n",
    "\n",
    "fig, ax = plt.subplots()\n",
    "ax.bar(fare_class, surv_chances, width=0.2, edgecolor=\"white\", linewidth=0.7)\n",
    "\n",
    "plt.show()"
   ]
  },
  {
   "cell_type": "code",
   "execution_count": null,
   "id": "132b398e",
   "metadata": {},
   "outputs": [],
   "source": [
    "\"\"\"\n",
    "the above stats are reasonably clear\n",
    "if you paid for a low cost fare you have around 1 in 4 chance of survival\n",
    "if you paid for a very high cost fare you have around a 3 in 4 chance of survival\n",
    "\"\"\""
   ]
  },
  {
   "cell_type": "code",
   "execution_count": 23,
   "id": "43d4e9d2",
   "metadata": {},
   "outputs": [],
   "source": [
    "# TODO: remaining columns to analyse\n",
    "# SibSp, Parch, Cabin, Embarked"
   ]
  },
  {
   "cell_type": "code",
   "execution_count": 28,
   "id": "867a8ea4",
   "metadata": {},
   "outputs": [
    {
     "name": "stdout",
     "output_type": "stream",
     "text": [
      "8 was the max number for siblings/spouse\n",
      "0 was the min number for siblings/spouse\n",
      "0.5230078563411896 was the mean number for siblings/spouse\n"
     ]
    },
    {
     "data": {
      "text/plain": [
       "<AxesSubplot:xlabel='SibSp'>"
      ]
     },
     "execution_count": 28,
     "metadata": {},
     "output_type": "execute_result"
    },
    {
     "data": {
      "image/png": "[encoded data removed]",
      "text/plain": [
       "<Figure size 432x288 with 1 Axes>"
      ]
     },
     "metadata": {
      "needs_background": "light"
     },
     "output_type": "display_data"
    }
   ],
   "source": [
    "# does having siblings or spouse onboard effect survival chance?\n",
    "\n",
    "# first lets check the spread of values for siblings/spouse\n",
    "print(str(td[\"SibSp\"].max()) + \" was the max number for siblings/spouse\")\n",
    "print(str(td[\"SibSp\"].min()) + \" was the min number for siblings/spouse\")\n",
    "print(str(td[\"SibSp\"].mean()) + \" was the mean number for siblings/spouse\")\n",
    "\n",
    "# plot spread of values for number of siblings/spouses\n",
    "td.value_counts(td['SibSp']).plot.bar()"
   ]
  },
  {
   "cell_type": "code",
   "execution_count": null,
   "id": "d95c4e33",
   "metadata": {},
   "outputs": [],
   "source": [
    "\"\"\"\n",
    "the large majority of passengers had no recorded spouse or sibling onboard\n",
    "\"\"\""
   ]
  },
  {
   "cell_type": "code",
   "execution_count": 34,
   "id": "60f6270f",
   "metadata": {},
   "outputs": [
    {
     "data": {
      "image/png": "[encoded data removed]",
      "text/plain": [
       "<Figure size 432x288 with 1 Axes>"
      ]
     },
     "metadata": {
      "needs_background": "light"
     },
     "output_type": "display_data"
    }
   ],
   "source": [
    "# plot survival chance by number of siblings/spouses\n",
    "died = td.loc[(td.Survived == 0)]\n",
    "survived = td.loc[(td.Survived == 1)]\n",
    "n_bins = 40\n",
    "\n",
    "x = died[\"SibSp\"]\n",
    "y = survived[\"SibSp\"]\n",
    "\n",
    "plt.hist([x,y], n_bins, label=['died','survived'], stacked=True)\n",
    "plt.legend(loc='upper right')\n",
    "plt.show()\n"
   ]
  },
  {
   "cell_type": "code",
   "execution_count": null,
   "id": "ecb1fb19",
   "metadata": {},
   "outputs": [],
   "source": [
    "\"\"\"\n",
    "from the above plot, it's not particularly obvious if whether having a spouse or \n",
    "sibling makes a difference to survival chance\n",
    "\n",
    "we can inspect the ratio between survived and died for each number of siblings\n",
    "to have a deeper look however due to the lack of data may be incorrect to infer too much \n",
    "\"\"\""
   ]
  }
 ],
 "metadata": {
  "kernelspec": {
   "display_name": "Python 3 (ipykernel)",
   "language": "python",
   "name": "python3"
  },
  "language_info": {
   "codemirror_mode": {
    "name": "ipython",
    "version": 3
   },
   "file_extension": ".py",
   "mimetype": "text/x-python",
   "name": "python",
   "nbconvert_exporter": "python",
   "pygments_lexer": "ipython3",
   "version": "3.9.13"
  }
 },
 "nbformat": 4,
 "nbformat_minor": 5
}
